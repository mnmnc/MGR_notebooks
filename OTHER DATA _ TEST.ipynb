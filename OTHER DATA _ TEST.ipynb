{
 "cells": [
  {
   "cell_type": "code",
   "execution_count": 1,
   "metadata": {
    "collapsed": true
   },
   "outputs": [],
   "source": [
    "# IMPORT STAT TOOLS\n",
    "from pandas import Series, DataFrame\n",
    "from os import walk\n",
    "import pandas as pd\n",
    "import numpy as np\n",
    "\n",
    "# IMPORT PLOTTING\n",
    "import matplotlib as mpl\n",
    "import matplotlib.pyplot as plt\n",
    "import seaborn as sns\n",
    "\n",
    "%matplotlib inline\n",
    "\n",
    "# CHANGE FIGURE SIZE\n",
    "import matplotlib.pylab as pylab\n",
    "pylab.rcParams['figure.figsize'] = 16, 12\n",
    "\n",
    "# IMPORT OTHER\n",
    "import os"
   ]
  },
  {
   "cell_type": "code",
   "execution_count": 3,
   "metadata": {
    "collapsed": true
   },
   "outputs": [],
   "source": [
    "# PATHS\n",
    "input_filepath = 'D:\\\\Data\\\\'\n",
    "\n",
    "# GETTING ALL FILES AS LIST\n",
    "\n",
    "all_files = []\n",
    "for (dirpath, dirnames, filenames) in walk(input_filepath):\n",
    "    all_files.extend(filenames)\n",
    "    break\n",
    "\n",
    "# SELECTING PCAP FILES AS LIST\n",
    "\n",
    "csv_files = []\n",
    "for filename in all_files:\n",
    "    if '.pcap.csv' in filename:\n",
    "        csv_files.append(filename)"
   ]
  },
  {
   "cell_type": "code",
   "execution_count": 4,
   "metadata": {
    "collapsed": true
   },
   "outputs": [],
   "source": [
    "main_dframe = DataFrame()"
   ]
  },
  {
   "cell_type": "code",
   "execution_count": 5,
   "metadata": {
    "collapsed": false
   },
   "outputs": [
    {
     "name": "stdout",
     "output_type": "stream",
     "text": [
      "||||||||||||||||||||||||||||||||||||||||||||||||||||||||||||||||||||||||||||||||\n",
      "||||||||||||||||||||||||||||||||||||||||||||||||||||||||||||||||||||||||||||||||\n",
      "||||||||||||||||||||||||||||||||||||||||||||||||||||||||||||||||||||||||||||||||\n",
      "||||||||||||||||||||||||||||||||||||||||||||||||||||||||||||||||||||||||||||||||\n",
      "||||||||||||||||||||||||||||||\n",
      "Files processed: 350\n"
     ]
    }
   ],
   "source": [
    "index = 0\n",
    "dframe_list = []\n",
    "\n",
    "for filename in csv_files:\n",
    "    index += 1\n",
    "    print('|', end='')\n",
    "    if index%80 == 0:\n",
    "        print()\n",
    "    \n",
    "    # READ FILE AND APPEND\n",
    "    dframe = pd.read_csv(input_filepath + filename, index_col=None, header=0)\n",
    "    dframe_list.append(dframe)\n",
    "    \n",
    "main_dframe = pd.concat(dframe_list)\n",
    "\n",
    "print('\\nFiles processed:', index)"
   ]
  },
  {
   "cell_type": "code",
   "execution_count": 6,
   "metadata": {
    "collapsed": false
   },
   "outputs": [
    {
     "data": {
      "text/html": [
       "<div>\n",
       "<table border=\"1\" class=\"dataframe\">\n",
       "  <thead>\n",
       "    <tr style=\"text-align: right;\">\n",
       "      <th></th>\n",
       "      <th>frame.number</th>\n",
       "      <th>frame.time_epoch</th>\n",
       "      <th>frame.len</th>\n",
       "      <th>ip.src</th>\n",
       "      <th>ip.dst</th>\n",
       "      <th>ip.ttl</th>\n",
       "      <th>tcp.srcport</th>\n",
       "      <th>tcp.dstport</th>\n",
       "      <th>tcp.flags</th>\n",
       "      <th>tcp.seq</th>\n",
       "      <th>tcp.stream</th>\n",
       "      <th>udp.srcport</th>\n",
       "      <th>udp.dstport</th>\n",
       "      <th>icmp.type</th>\n",
       "      <th>icmp.code</th>\n",
       "    </tr>\n",
       "  </thead>\n",
       "  <tbody>\n",
       "    <tr>\n",
       "      <th>0</th>\n",
       "      <td>1</td>\n",
       "      <td>1.396972e+09</td>\n",
       "      <td>116</td>\n",
       "      <td>87.205.141.29</td>\n",
       "      <td>37.187.81.8</td>\n",
       "      <td>55</td>\n",
       "      <td>58095</td>\n",
       "      <td>22</td>\n",
       "      <td>24</td>\n",
       "      <td>1</td>\n",
       "      <td>0</td>\n",
       "      <td>NaN</td>\n",
       "      <td>NaN</td>\n",
       "      <td>NaN</td>\n",
       "      <td>NaN</td>\n",
       "    </tr>\n",
       "    <tr>\n",
       "      <th>1</th>\n",
       "      <td>2</td>\n",
       "      <td>1.396972e+09</td>\n",
       "      <td>148</td>\n",
       "      <td>37.187.81.8</td>\n",
       "      <td>87.205.141.29</td>\n",
       "      <td>64</td>\n",
       "      <td>22</td>\n",
       "      <td>58095</td>\n",
       "      <td>24</td>\n",
       "      <td>1</td>\n",
       "      <td>0</td>\n",
       "      <td>NaN</td>\n",
       "      <td>NaN</td>\n",
       "      <td>NaN</td>\n",
       "      <td>NaN</td>\n",
       "    </tr>\n",
       "    <tr>\n",
       "      <th>2</th>\n",
       "      <td>3</td>\n",
       "      <td>1.396972e+09</td>\n",
       "      <td>68</td>\n",
       "      <td>87.205.141.29</td>\n",
       "      <td>37.187.81.8</td>\n",
       "      <td>55</td>\n",
       "      <td>58095</td>\n",
       "      <td>22</td>\n",
       "      <td>16</td>\n",
       "      <td>49</td>\n",
       "      <td>0</td>\n",
       "      <td>NaN</td>\n",
       "      <td>NaN</td>\n",
       "      <td>NaN</td>\n",
       "      <td>NaN</td>\n",
       "    </tr>\n",
       "    <tr>\n",
       "      <th>3</th>\n",
       "      <td>4</td>\n",
       "      <td>1.396972e+09</td>\n",
       "      <td>100</td>\n",
       "      <td>5.39.111.9</td>\n",
       "      <td>37.187.81.8</td>\n",
       "      <td>62</td>\n",
       "      <td>NaN</td>\n",
       "      <td>NaN</td>\n",
       "      <td>NaN</td>\n",
       "      <td>NaN</td>\n",
       "      <td>NaN</td>\n",
       "      <td>NaN</td>\n",
       "      <td>NaN</td>\n",
       "      <td>8</td>\n",
       "      <td>0</td>\n",
       "    </tr>\n",
       "    <tr>\n",
       "      <th>4</th>\n",
       "      <td>5</td>\n",
       "      <td>1.396972e+09</td>\n",
       "      <td>100</td>\n",
       "      <td>37.187.81.8</td>\n",
       "      <td>5.39.111.9</td>\n",
       "      <td>64</td>\n",
       "      <td>NaN</td>\n",
       "      <td>NaN</td>\n",
       "      <td>NaN</td>\n",
       "      <td>NaN</td>\n",
       "      <td>NaN</td>\n",
       "      <td>NaN</td>\n",
       "      <td>NaN</td>\n",
       "      <td>0</td>\n",
       "      <td>0</td>\n",
       "    </tr>\n",
       "  </tbody>\n",
       "</table>\n",
       "</div>"
      ],
      "text/plain": [
       "   frame.number  frame.time_epoch  frame.len         ip.src         ip.dst  \\\n",
       "0             1      1.396972e+09        116  87.205.141.29    37.187.81.8   \n",
       "1             2      1.396972e+09        148    37.187.81.8  87.205.141.29   \n",
       "2             3      1.396972e+09         68  87.205.141.29    37.187.81.8   \n",
       "3             4      1.396972e+09        100     5.39.111.9    37.187.81.8   \n",
       "4             5      1.396972e+09        100    37.187.81.8     5.39.111.9   \n",
       "\n",
       "   ip.ttl  tcp.srcport  tcp.dstport  tcp.flags  tcp.seq  tcp.stream  \\\n",
       "0      55        58095           22         24        1           0   \n",
       "1      64           22        58095         24        1           0   \n",
       "2      55        58095           22         16       49           0   \n",
       "3      62          NaN          NaN        NaN      NaN         NaN   \n",
       "4      64          NaN          NaN        NaN      NaN         NaN   \n",
       "\n",
       "   udp.srcport  udp.dstport  icmp.type  icmp.code  \n",
       "0          NaN          NaN        NaN        NaN  \n",
       "1          NaN          NaN        NaN        NaN  \n",
       "2          NaN          NaN        NaN        NaN  \n",
       "3          NaN          NaN          8          0  \n",
       "4          NaN          NaN          0          0  "
      ]
     },
     "execution_count": 6,
     "metadata": {},
     "output_type": "execute_result"
    }
   ],
   "source": [
    "main_dframe.head()"
   ]
  },
  {
   "cell_type": "code",
   "execution_count": 25,
   "metadata": {
    "collapsed": false
   },
   "outputs": [
    {
     "data": {
      "text/plain": [
       "<matplotlib.collections.PathCollection at 0x1c52e780>"
      ]
     },
     "execution_count": 25,
     "metadata": {},
     "output_type": "execute_result"
    },
    {
     "data": {
      "image/png": "[encoded data removed]",
      "text/plain": [
       "<matplotlib.figure.Figure at 0x1c58ac18>"
      ]
     },
     "metadata": {},
     "output_type": "display_data"
    }
   ],
   "source": [
    "plt.scatter(main_dframe['frame.time_epoch'], main_dframe['icmp.type'], s=main_dframe['icmp.type'], marker=',', alpha=0.5)\n",
    "#plt.ylim(0,30)\n",
    "#plt.xlim( main_dframe['frame.time_epoch'].values[0], (main_dframe['frame.time_epoch'].values[10000]) )"
   ]
  },
  {
   "cell_type": "code",
   "execution_count": 19,
   "metadata": {
    "collapsed": false
   },
   "outputs": [
    {
     "data": {
      "text/plain": [
       "1396971977.959029"
      ]
     },
     "execution_count": 19,
     "metadata": {},
     "output_type": "execute_result"
    }
   ],
   "source": [
    "main_dframe['frame.time_epoch'].values[0]"
   ]
  },
  {
   "cell_type": "code",
   "execution_count": null,
   "metadata": {
    "collapsed": true
   },
   "outputs": [],
   "source": []
  }
 ],
 "metadata": {
  "kernelspec": {
   "display_name": "Python 3",
   "language": "python",
   "name": "python3"
  },
  "language_info": {
   "codemirror_mode": {
    "name": "ipython",
    "version": 3
   },
   "file_extension": ".py",
   "mimetype": "text/x-python",
   "name": "python",
   "nbconvert_exporter": "python",
   "pygments_lexer": "ipython3",
   "version": "3.4.3"
  }
 },
 "nbformat": 4,
 "nbformat_minor": 0
}
