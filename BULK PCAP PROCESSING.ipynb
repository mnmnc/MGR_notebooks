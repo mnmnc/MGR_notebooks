{
 "cells": [
  {
   "cell_type": "markdown",
   "metadata": {},
   "source": [
    "#### IMPORTS"
   ]
  },
  {
   "cell_type": "code",
   "execution_count": 7,
   "metadata": {
    "collapsed": true
   },
   "outputs": [],
   "source": [
    "from os import walk, system"
   ]
  },
  {
   "cell_type": "markdown",
   "metadata": {},
   "source": [
    "#### VARIABLES"
   ]
  },
  {
   "cell_type": "code",
   "execution_count": 8,
   "metadata": {
    "collapsed": true
   },
   "outputs": [],
   "source": [
    "# PATHS\n",
    "input_filepath = 'D:\\\\Data2\\\\'\n",
    "output_filepath = input_filepath\n",
    "tshark = '\"C:\\\\Program Files\\\\Wireshark\\\\tshark.exe\"'\n",
    "\n",
    "# FILENAME\n",
    "out_filename_ext = '.csv'\n",
    "\n",
    "# TSHARK PARAMS\n",
    "read = ' -r '\n",
    "output_params = ' -E header=y -E separator=, -E occurrence=f -E quote=d -t u >'\n",
    "fields_select = ' -T fields             \\\n",
    "                    -e frame.number     \\\n",
    "                    -e frame.time_epoch \\\n",
    "                    -e frame.len        \\\n",
    "                    -e ip.src           \\\n",
    "                    -e ip.dst           \\\n",
    "                    -e ip.ttl           \\\n",
    "                    -e tcp.srcport      \\\n",
    "                    -e tcp.dstport      \\\n",
    "                    -e tcp.flags        \\\n",
    "                    -e tcp.seq          \\\n",
    "                    -e tcp.stream       \\\n",
    "                    -e udp.srcport      \\\n",
    "                    -e udp.dstport      \\\n",
    "                    -e icmp.type        \\\n",
    "                    -e icmp.code'\n",
    "\n"
   ]
  },
  {
   "cell_type": "markdown",
   "metadata": {},
   "source": [
    "#### GENERATING FILES LIST"
   ]
  },
  {
   "cell_type": "code",
   "execution_count": 9,
   "metadata": {
    "collapsed": false
   },
   "outputs": [],
   "source": [
    "# GETTING ALL FILES AS LIST\n",
    "\n",
    "all_files = []\n",
    "for (dirpath, dirnames, filenames) in walk(input_filepath):\n",
    "    all_files.extend(filenames)\n",
    "    break"
   ]
  },
  {
   "cell_type": "code",
   "execution_count": 10,
   "metadata": {
    "collapsed": false
   },
   "outputs": [],
   "source": [
    "# SELECTING PCAP FILES AS LIST\n",
    "\n",
    "pcap_files = []\n",
    "for filename in all_files:\n",
    "    if '.pcap' in filename:\n",
    "        if '.pcap.csv' not in filename:\n",
    "            pcap_files.append(filename)"
   ]
  },
  {
   "cell_type": "markdown",
   "metadata": {},
   "source": [
    "#### PARSING PCAP FILES TO CSV"
   ]
  },
  {
   "cell_type": "code",
   "execution_count": 11,
   "metadata": {
    "collapsed": false
   },
   "outputs": [
    {
     "name": "stdout",
     "output_type": "stream",
     "text": [
      "FILE PROCESSED: smaller_mac_00000_20120316133000.pcap\n",
      "FILE PROCESSED: smaller_mac_00001_20120316134417.pcap\n",
      "FILE PROCESSED: smaller_mac_00002_20120316135757.pcap\n",
      "FILE PROCESSED: smaller_mac_00003_20120316140933.pcap\n",
      "FILE PROCESSED: smaller_mac_00004_20120316141636.pcap\n",
      "FILE PROCESSED: smaller_mac_00005_20120316141800.pcap\n",
      "FILE PROCESSED: smaller_mac_00006_20120316141957.pcap\n",
      "FILE PROCESSED: smaller_mac_00007_20120316142252.pcap\n",
      "FILE PROCESSED: smaller_mac_00008_20120316142640.pcap\n"
     ]
    }
   ],
   "source": [
    "for pcap_file in pcap_files:\n",
    "    result = system(\n",
    "        tshark + \n",
    "        read + \n",
    "        input_filepath + \n",
    "        pcap_file + \n",
    "        fields_select + \n",
    "        output_params + \n",
    "        output_filepath + \n",
    "        pcap_file +\n",
    "        out_filename_ext\n",
    "    )\n",
    "\n",
    "    if result == 0:\n",
    "        print('FILE PROCESSED: ' + pcap_file)\n",
    "    else:\n",
    "        print('WARNING! FILE NOT PROCESSED: ' + pcap_file)"
   ]
  },
  {
   "cell_type": "markdown",
   "metadata": {},
   "source": [
    "#### GETTING CSV FILES"
   ]
  },
  {
   "cell_type": "code",
   "execution_count": 12,
   "metadata": {
    "collapsed": true
   },
   "outputs": [],
   "source": [
    "# GETTING ALL FILES AS LIST\n",
    "\n",
    "all_files = []\n",
    "for (dirpath, dirnames, filenames) in walk(input_filepath):\n",
    "    all_files.extend(filenames)\n",
    "    break\n",
    "\n",
    "# SELECTING PCAP FILES AS LIST\n",
    "\n",
    "csv_files = []\n",
    "for filename in all_files:\n",
    "    if '.pcap.csv' in filename:\n",
    "        csv_files.append(filename)"
   ]
  },
  {
   "cell_type": "code",
   "execution_count": 13,
   "metadata": {
    "collapsed": false
   },
   "outputs": [
    {
     "data": {
      "text/plain": [
       "['smaller_mac_00000_20120316133000.pcap.csv',\n",
       " 'smaller_mac_00001_20120316134417.pcap.csv',\n",
       " 'smaller_mac_00002_20120316135757.pcap.csv',\n",
       " 'smaller_mac_00003_20120316140933.pcap.csv',\n",
       " 'smaller_mac_00004_20120316141636.pcap.csv',\n",
       " 'smaller_mac_00005_20120316141800.pcap.csv',\n",
       " 'smaller_mac_00006_20120316141957.pcap.csv',\n",
       " 'smaller_mac_00007_20120316142252.pcap.csv',\n",
       " 'smaller_mac_00008_20120316142640.pcap.csv']"
      ]
     },
     "execution_count": 13,
     "metadata": {},
     "output_type": "execute_result"
    }
   ],
   "source": [
    "csv_files"
   ]
  },
  {
   "cell_type": "code",
   "execution_count": null,
   "metadata": {
    "collapsed": true
   },
   "outputs": [],
   "source": []
  }
 ],
 "metadata": {
  "kernelspec": {
   "display_name": "Python 3",
   "language": "python",
   "name": "python3"
  },
  "language_info": {
   "codemirror_mode": {
    "name": "ipython",
    "version": 3
   },
   "file_extension": ".py",
   "mimetype": "text/x-python",
   "name": "python",
   "nbconvert_exporter": "python",
   "pygments_lexer": "ipython3",
   "version": "3.4.3"
  }
 },
 "nbformat": 4,
 "nbformat_minor": 0
}
