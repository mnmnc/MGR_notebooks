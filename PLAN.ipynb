{
 "cells": [
  {
   "cell_type": "code",
   "execution_count": null,
   "metadata": {
    "collapsed": true
   },
   "outputs": [],
   "source": [
    "#### Trzy metody:\n",
    "- Statystyczna: rozstęp kwartylny\n",
    "  \n",
    "  ```\n",
    "  Collect\n",
    "  Sort   \n",
    "  Find quartile values\n",
    "      Q2 = median\n",
    "      Q1 = median bottom half\n",
    "      Q3 = median upper half\n",
    "      IQR = Q3 - Q1\n",
    "      Q3 + 1.5 (IQR) < Qoutliers < Q1 - 1.5 (IQR)\n",
    "  Divide data based on quartile values\n",
    "```\n",
    "\n",
    "- Odległościowa: LOF\n",
    "  \n",
    "\n",
    "- Wysoko wymiarowe: ABOD (angle based outlier detection)"
   ]
  },
  {
   "cell_type": "code",
   "execution_count": null,
   "metadata": {
    "collapsed": true
   },
   "outputs": [],
   "source": []
  }
 ],
 "metadata": {
  "kernelspec": {
   "display_name": "Python 3",
   "language": "python",
   "name": "python3"
  },
  "language_info": {
   "codemirror_mode": {
    "name": "ipython",
    "version": 3
   },
   "file_extension": ".py",
   "mimetype": "text/x-python",
   "name": "python",
   "nbconvert_exporter": "python",
   "pygments_lexer": "ipython3",
   "version": "3.4.3"
  }
 },
 "nbformat": 4,
 "nbformat_minor": 0
}
